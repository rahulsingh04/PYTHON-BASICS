{
 "cells": [
  {
   "cell_type": "code",
   "execution_count": null,
   "id": "1ce9362e",
   "metadata": {},
   "outputs": [],
   "source": [
    "class Car:\n",
    "    def __init__(self,windows,doors,enginetype):\n",
    "        self.windows=windows\n",
    "        self.doors=doors\n",
    "        self.enginetype=enginetype\n",
    "\n",
    "    def driving(self):\n",
    "        print(\"Car is ued for driving\")\n",
    "\n",
    "##Audi car is inherting from Car class\n",
    "class Audi(Car):\n",
    "    def __init__(self,windows,doors,enginetype,horsepower):\n",
    "        super().__init__(windows,doors,enginetype)\n",
    "        self.horsepower=horsepower\n",
    "\n",
    "    def selfdriving(self):\n",
    "        print(\"IT is a self driving car\")\n",
    "\n",
    "\n",
    "audiq7=Audi(4,5,\"Diesel\",200)"
   ]
  },
  {
   "cell_type": "code",
   "execution_count": 7,
   "id": "f2a4d938",
   "metadata": {},
   "outputs": [],
   "source": [
    "class  car():\n",
    "    def __init__(self, car):\n",
    "        self.car = car\n",
    "class bmw(car):\n",
    "    def __init__(self, car , speed):\n",
    "        super().__init__(car)\n",
    "        self.speed = speed"
   ]
  },
  {
   "cell_type": "code",
   "execution_count": 2,
   "id": "eaac56e1",
   "metadata": {},
   "outputs": [],
   "source": [
    "class car() : \n",
    "    def __init__(self, car):\n",
    "        self.car = car\n",
    "class bmw(car):\n",
    "    def __init__(self, car, speed):\n",
    "        super().__init__(car)\n",
    "        self.speed = speed"
   ]
  },
  {
   "cell_type": "code",
   "execution_count": null,
   "id": "c248431b",
   "metadata": {},
   "outputs": [],
   "source": []
  },
  {
   "cell_type": "code",
   "execution_count": null,
   "id": "653d4dd5",
   "metadata": {},
   "outputs": [],
   "source": []
  },
  {
   "cell_type": "code",
   "execution_count": null,
   "id": "053de326",
   "metadata": {},
   "outputs": [],
   "source": []
  }
 ],
 "metadata": {
  "kernelspec": {
   "display_name": "Python 3 (ipykernel)",
   "language": "python",
   "name": "python3"
  },
  "language_info": {
   "codemirror_mode": {
    "name": "ipython",
    "version": 3
   },
   "file_extension": ".py",
   "mimetype": "text/x-python",
   "name": "python",
   "nbconvert_exporter": "python",
   "pygments_lexer": "ipython3",
   "version": "3.9.12"
  }
 },
 "nbformat": 4,
 "nbformat_minor": 5
}
