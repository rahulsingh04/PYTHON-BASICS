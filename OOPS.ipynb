{
 "cells": [
  {
   "cell_type": "code",
   "execution_count": 1,
   "id": "d75b2e06",
   "metadata": {},
   "outputs": [],
   "source": [
    "class Dog : \n",
    "    def __init__(self, dog , name, age , class_, rollno):\n",
    "        self.dog = dog \n",
    "        self.name = name\n",
    "        self.age = age\n",
    "        self.class_ = class_\n",
    "        self.rollno = rollno\n",
    "        # class attribute\n",
    "    attr1 = \"mammal\"\n",
    "    def __str__(self):\n",
    "        return(\"This is the Dog class\")"
   ]
  },
  {
   "cell_type": "code",
   "execution_count": 2,
   "id": "ffe871a2",
   "metadata": {},
   "outputs": [],
   "source": [
    "dog = Dog('labradog' , 'pinky' , 32 , 43, 42)\n",
    "Tommy = Dog('husky' , 'hypothesis' , 36, 67, 78)"
   ]
  },
  {
   "cell_type": "code",
   "execution_count": 3,
   "id": "fd694ba5",
   "metadata": {},
   "outputs": [
    {
     "name": "stdout",
     "output_type": "stream",
     "text": [
      "labradog pinky 32 43 42\n",
      "husky hypothesis 36 67 78\n"
     ]
    }
   ],
   "source": [
    "print(dog.dog, dog.name, dog.age, dog.class_,  dog.rollno)\n",
    "print(Tommy.dog, Tommy.name, Tommy.age, Tommy.class_, Tommy.rollno)"
   ]
  },
  {
   "cell_type": "code",
   "execution_count": 4,
   "id": "79595053",
   "metadata": {},
   "outputs": [
    {
     "name": "stdout",
     "output_type": "stream",
     "text": [
      "This is the Dog class\n",
      "This is the Dog class\n",
      "Rodger is a mammal\n",
      "Tommy is also a mammal\n"
     ]
    }
   ],
   "source": [
    "print(dog)\n",
    "print(Tommy)\n",
    "print(\"Rodger is a {}\".format(dog.__class__.attr1))\n",
    "print(\"Tommy is also a {}\".format(Tommy.__class__.attr1))"
   ]
  },
  {
   "cell_type": "code",
   "execution_count": 5,
   "id": "b882cff4",
   "metadata": {},
   "outputs": [],
   "source": [
    "# Example 2: Creating Class and objects with methods\n"
   ]
  },
  {
   "cell_type": "code",
   "execution_count": 6,
   "id": "7ef08160",
   "metadata": {},
   "outputs": [],
   "source": [
    "class Dog : \n",
    "    def __init__(self, dog , name, age , class_, rollno):\n",
    "        self.dog = dog \n",
    "        self.name = name\n",
    "        self.age = age\n",
    "        self.class_ = class_\n",
    "        self.rollno = rollno\n",
    "        # class attribute\n",
    "    attr1 = \"mammal\"\n",
    "    def __str__(self):\n",
    "        return(\"This is the Dog class\")\n",
    "    def speak(self):\n",
    "        return(\"MY NAME IS {}\".format(self.name))"
   ]
  },
  {
   "cell_type": "code",
   "execution_count": 7,
   "id": "c06a857e",
   "metadata": {},
   "outputs": [
    {
     "name": "stdout",
     "output_type": "stream",
     "text": [
      "This is the Dog class\n",
      "This is the Dog class\n",
      "Rodger is a mammal\n",
      "Tommy is also a mammal\n",
      "pinky\n",
      "hypothesis\n"
     ]
    }
   ],
   "source": [
    "print(dog)\n",
    "print(Tommy)\n",
    "print(\"Rodger is a {}\".format(dog.__class__.attr1))\n",
    "print(\"Tommy is also a {}\".format(Tommy.__class__.attr1))\n",
    "print(dog.name)\n",
    "print(Tommy.name)"
   ]
  },
  {
   "cell_type": "markdown",
   "id": "98346326",
   "metadata": {},
   "source": [
    "## Inheritance\n",
    " Inheritance is the capability of one class to derive or inherit the properties from another class. The class that derives properties is called the derived class or child class and the class from which the properties are being derived is called the base class or parent class. The benefits of inheritance are:\n",
    "\n",
    "  It represents real-world relationships well.\n",
    "  It provides the reusability of a code. We don’t have to write the same code again and again. Also, it allows us to add more     features to a class without modifying it.\n",
    "  It is transitive in nature, which means that if class B inherits from another class A, then all the subclasses of B would      automatically inherit from class A.\n",
    "  \n",
    "### Types of Inheritance – \n",
    "### Single Inheritance:\n",
    "Single-level inheritance enables a derived class to inherit characteristics from a single-parent class.\n",
    "\n",
    "### Multilevel Inheritance:\n",
    "Multi-level inheritance enables a derived class to inherit properties from an immediate parent class which in turn inherits properties from his parent class.\n",
    "\n",
    "###  Hierarchical Inheritance:\n",
    "Hierarchical level inheritance enables more than one derived class to inherit properties from a parent class.\n",
    "\n",
    "###  Multiple Inheritance:\n",
    "Multiple level inheritance enables one derived class to inherit properties from more than one base class.\n",
    "\n",
    "Example: Inheritance in Python are : -\n",
    "\n"
   ]
  },
  {
   "cell_type": "code",
   "execution_count": 8,
   "id": "1fffcd92",
   "metadata": {},
   "outputs": [
    {
     "name": "stdout",
     "output_type": "stream",
     "text": [
      "Rahul\n",
      "886012\n",
      "My name is Rahul\n",
      "IdNumber: 886012\n",
      "Post: Intern\n"
     ]
    }
   ],
   "source": [
    "# Python code to demonstrate how parent constructors\n",
    "# are called.\n",
    " \n",
    "# parent class\n",
    "class Person(object):\n",
    " \n",
    "    # __init__ is known as the constructor\n",
    "    def __init__(self, name, idnumber):\n",
    "        self.name = name\n",
    "        self.idnumber = idnumber\n",
    " \n",
    "    def display(self):\n",
    "        print(self.name)\n",
    "        print(self.idnumber)\n",
    "         \n",
    "    def details(self):\n",
    "        print(\"My name is {}\".format(self.name))\n",
    "        print(\"IdNumber: {}\".format(self.idnumber))\n",
    "     \n",
    "# child class\n",
    "class Employee(Person):\n",
    "    def __init__(self, name, idnumber, salary, post):\n",
    "        self.salary = salary\n",
    "        self.post = post\n",
    " \n",
    "        # invoking the __init__ of the parent class\n",
    "        Person.__init__(self, name, idnumber)\n",
    "         \n",
    "    def details(self):\n",
    "        print(\"My name is {}\".format(self.name))\n",
    "        print(\"IdNumber: {}\".format(self.idnumber))\n",
    "        print(\"Post: {}\".format(self.post))\n",
    " \n",
    " \n",
    "# creation of an object variable or an instance\n",
    "a = Employee('Rahul', 886012, 200000, \"Intern\")\n",
    " \n",
    "# calling a function of the class Person using\n",
    "# its instance\n",
    "a.display()\n",
    "a.details()"
   ]
  },
  {
   "cell_type": "code",
   "execution_count": 9,
   "id": "287c74f3",
   "metadata": {},
   "outputs": [],
   "source": [
    "class person:\n",
    "    def __init__(self, name , Id, jobrole):\n",
    "        self.name = name\n",
    "        self.Id =Id\n",
    "        self.jobrole  = jobrole\n",
    "    def display(self):\n",
    "        return(\"person name is {0} , jobId Id {1}  , jobrole is {2}\" . format(self.name , self.Id, self.jobrole))\n",
    "class employee(person):\n",
    "    def __init__(self, name , Id, jobrole, city , state , country):\n",
    "        super().__init__(name , Id , jobrole )\n",
    "        self.city = city \n",
    "        self.state  = state\n",
    "        self.country = country \n",
    "    def __str__(self):\n",
    "        return(\"---------------------This is the class  of the  Employee--------------------\")"
   ]
  },
  {
   "cell_type": "code",
   "execution_count": 10,
   "id": "62b72109",
   "metadata": {},
   "outputs": [],
   "source": [
    "rahul  = person('rahul' , '162-abc' , 'DataScientist')"
   ]
  },
  {
   "cell_type": "code",
   "execution_count": 11,
   "id": "b3fee1e2",
   "metadata": {},
   "outputs": [
    {
     "name": "stdout",
     "output_type": "stream",
     "text": [
      "rahul 162-abc DataScientist\n",
      "person name is rahul , jobId Id 162-abc  , jobrole is DataScientist\n"
     ]
    }
   ],
   "source": [
    "print(rahul.name, rahul.Id, rahul.jobrole)\n",
    "print(rahul.display())"
   ]
  },
  {
   "cell_type": "code",
   "execution_count": 12,
   "id": "abea840b",
   "metadata": {},
   "outputs": [
    {
     "name": "stdout",
     "output_type": "stream",
     "text": [
      "rahul 162-abc DataScientist\n",
      "person name is rahul , jobId Id 162-abc  , jobrole is DataScientist\n",
      "patna\n",
      "Bihar\n",
      "India\n",
      "---------------------This is the class  of the  Employee--------------------\n",
      "\n",
      "\n",
      "['__class__', '__delattr__', '__dict__', '__dir__', '__doc__', '__eq__', '__format__', '__ge__', '__getattribute__', '__gt__', '__hash__', '__init__', '__init_subclass__', '__le__', '__lt__', '__module__', '__ne__', '__new__', '__reduce__', '__reduce_ex__', '__repr__', '__setattr__', '__sizeof__', '__str__', '__subclasshook__', '__weakref__', 'display']\n",
      "\n",
      "\n",
      "['__class__', '__delattr__', '__dict__', '__dir__', '__doc__', '__eq__', '__format__', '__ge__', '__getattribute__', '__gt__', '__hash__', '__init__', '__init_subclass__', '__le__', '__lt__', '__module__', '__ne__', '__new__', '__reduce__', '__reduce_ex__', '__repr__', '__setattr__', '__sizeof__', '__str__', '__subclasshook__', '__weakref__', 'display']\n"
     ]
    }
   ],
   "source": [
    "rahul  = employee('rahul' , '162-abc' , 'DataScientist' , 'patna' , 'Bihar' , 'India')\n",
    "print(rahul.name, rahul.Id, rahul.jobrole)\n",
    "print(rahul.display())\n",
    "print(rahul.city)\n",
    "print(rahul.state)\n",
    "print(rahul.country)\n",
    "print(rahul)\n",
    "print(\"\\n\")\n",
    "print(dir(person))\n",
    "print(\"\\n\")\n",
    "print(dir(employee))"
   ]
  },
  {
   "cell_type": "code",
   "execution_count": null,
   "id": "a031227b",
   "metadata": {},
   "outputs": [],
   "source": []
  },
  {
   "cell_type": "markdown",
   "id": "c804670c",
   "metadata": {},
   "source": [
    "## Polymorphism\n",
    "Polymorphism simply means having many forms. For example, we need to determine if the given species of birds fly or not, using polymorphism we can do this using a single function."
   ]
  },
  {
   "cell_type": "code",
   "execution_count": 13,
   "id": "2eb73ab4",
   "metadata": {},
   "outputs": [
    {
     "name": "stdout",
     "output_type": "stream",
     "text": [
      "\n",
      "\n",
      "------------------------------------------------------------------------------------------------------------------------\n",
      "there are too many type of bird\n",
      "MOST BIRD CAN FLY BUT SOME CANNOT\n",
      "\n",
      "\n",
      "------------------------------------------------------------------------------------------------------------------------\n",
      "there are too many type of bird\n",
      "SPARROW CAN FLY . \n",
      "\n",
      "\n",
      "------------------------------------------------------------------------------------------------------------------------\n",
      "there are too many type of bird\n",
      "OSTRICH CANNOT FLY . \n"
     ]
    }
   ],
   "source": [
    "class Bird: \n",
    "    def intro(self):\n",
    "        print(\"there are too many type of bird\")\n",
    "    def flight(self):\n",
    "        print(\"MOST BIRD CAN FLY BUT SOME CANNOT\")\n",
    "class sparrow(Bird):\n",
    "    def flight(self):\n",
    "        print(\"SPARROW CAN FLY . \")\n",
    "class ostrich(Bird):\n",
    "    def flight(self):\n",
    "        print(\"OSTRICH CANNOT FLY . \")\n",
    "bird = Bird()\n",
    "spr = sparrow()\n",
    "ost = ostrich()\n",
    "print(\"\\n\")\n",
    "print(\"-\"*120)\n",
    "bird.intro()\n",
    "bird.flight()\n",
    "print(\"\\n\")\n",
    "\n",
    "print(\"-\"*120)\n",
    "\n",
    "spr.intro()\n",
    "spr.flight()\n",
    "print(\"\\n\")\n",
    "\n",
    "print(\"-\"*120)\n",
    "\n",
    "ost.intro()\n",
    "ost.flight()"
   ]
  },
  {
   "cell_type": "markdown",
   "id": "f5a76f3d",
   "metadata": {},
   "source": [
    "## Encapsulation\n",
    "\n",
    "    Encapsulation is one of the fundamental concepts in object-oriented programming (OOP). It describes the idea of wrapping data and the methods that work on data within one unit. This puts restrictions on accessing variables and methods directly and can prevent the accidental modification of data. To prevent accidental change, an object’s variable can only be changed by an object’s method. Those types of variables are known as private variables.\n",
    "\n",
    "    A class is an example of encapsulation as it encapsulates all the data that is member functions, variables, etc."
   ]
  },
  {
   "cell_type": "code",
   "execution_count": 14,
   "id": "ed4a5b7f",
   "metadata": {},
   "outputs": [
    {
     "name": "stdout",
     "output_type": "stream",
     "text": [
      "GeeksforGeeks\n"
     ]
    }
   ],
   "source": [
    "# Python program to\n",
    "# demonstrate private members\n",
    "\n",
    "# Creating a Base class\n",
    "class Base:\n",
    "\tdef __init__(self):\n",
    "\t\tself.a = \"GeeksforGeeks\"\n",
    "\t\tself.__c = \"GeeksforGeeks\"\n",
    "\n",
    "# Creating a derived class\n",
    "class Derived(Base):\n",
    "\tdef __init__(self):\n",
    "\n",
    "\t\t# Calling constructor of\n",
    "\t\t# Base class\n",
    "\t\tBase.__init__(self)\n",
    "\t\tprint(\"Calling private member of base class: \")\n",
    "\t\tprint(self.__c)\n",
    "\n",
    "\n",
    "# Driver code\n",
    "obj1 = Base()\n",
    "print(obj1.a)\n",
    "\n",
    "# Uncommenting print(obj1.c) will\n",
    "# raise an AttributeError\n",
    "\n",
    "# Uncommenting obj2 = Derived() will\n",
    "# also raise an AtrributeError as\n",
    "# private member of base class\n",
    "# is called inside derived class\n"
   ]
  },
  {
   "cell_type": "code",
   "execution_count": 15,
   "id": "276b6866",
   "metadata": {},
   "outputs": [],
   "source": [
    "class test:\n",
    "    def __init__(self, a , b  , c ,d ) :\n",
    "        self.__a = a  # This one is protected we can't call it from outside\n",
    "        self.b = b\n",
    "        self.c = c \n",
    "        self.d = d \n",
    "    def test_custome(self , v ) : \n",
    "         return v - self.__a\n",
    "    \n",
    "    def __str__(self):\n",
    "        return \"this is my test code for abstraction\""
   ]
  },
  {
   "cell_type": "code",
   "execution_count": 16,
   "id": "2c56385e",
   "metadata": {},
   "outputs": [],
   "source": [
    "o = test(4,5,6,7)  ### IF YOU RUN THIS CELL AGAIN IT WILL THROW AN ERROR"
   ]
  },
  {
   "cell_type": "code",
   "execution_count": 17,
   "id": "770fb382",
   "metadata": {},
   "outputs": [
    {
     "data": {
      "text/plain": [
       "3"
      ]
     },
     "execution_count": 17,
     "metadata": {},
     "output_type": "execute_result"
    }
   ],
   "source": [
    "o.test_custome(7)"
   ]
  },
  {
   "cell_type": "code",
   "execution_count": 18,
   "id": "cc49fc66",
   "metadata": {},
   "outputs": [
    {
     "data": {
      "text/plain": [
       "4"
      ]
     },
     "execution_count": 18,
     "metadata": {},
     "output_type": "execute_result"
    }
   ],
   "source": [
    "o._test__a ## PRIVATE SHOULD BE CALLED LIKE THIS"
   ]
  },
  {
   "cell_type": "code",
   "execution_count": 19,
   "id": "ced8e93e",
   "metadata": {},
   "outputs": [
    {
     "data": {
      "text/plain": [
       "6"
      ]
     },
     "execution_count": 19,
     "metadata": {},
     "output_type": "execute_result"
    }
   ],
   "source": [
    "class test1(test):\n",
    "    def __init__(self, j , *args):\n",
    "        super(test1,self).__init__(*args)\n",
    "        self.j = j \n",
    "        \n",
    "m = test1(4,5,6,7,8)\n",
    "m.b"
   ]
  },
  {
   "cell_type": "code",
   "execution_count": null,
   "id": "2eaa22a2",
   "metadata": {},
   "outputs": [],
   "source": []
  }
 ],
 "metadata": {
  "kernelspec": {
   "display_name": "Python 3 (ipykernel)",
   "language": "python",
   "name": "python3"
  },
  "language_info": {
   "codemirror_mode": {
    "name": "ipython",
    "version": 3
   },
   "file_extension": ".py",
   "mimetype": "text/x-python",
   "name": "python",
   "nbconvert_exporter": "python",
   "pygments_lexer": "ipython3",
   "version": "3.9.12"
  }
 },
 "nbformat": 4,
 "nbformat_minor": 5
}
